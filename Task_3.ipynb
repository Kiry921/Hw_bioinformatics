{
 "cells": [
  {
   "cell_type": "code",
   "execution_count": null,
   "id": "f0de61ba-5c04-48f3-9992-d831c2aa3cce",
   "metadata": {},
   "outputs": [],
   "source": [
    "seq1 = \"GACGAAG\"\n",
    "seq2 = \"ACCAAG\"\n",
    "def needleman_wunsch(seq1, seq2, match=1, mismatch=-1, gap=-1):\n",
    "    n = len(seq1)\n",
    "    m = len(seq2)\n",
    "    \n",
    "    dp = [[0] * (m + 1) for _ in range(n + 1)]\n",
    "    \n",
    "    for i in range(n + 1):\n",
    "        dp[i][0] = gap * i\n",
    "    for j in range(m + 1):\n",
    "        dp[0][j] = gap * j\n",
    "    \n",
    "    for i in range(1, n + 1):\n",
    "        for j in range(1, m + 1):\n",
    "            score = match if seq1[i - 1] == seq2[j - 1] else mismatch\n",
    "            dp[i][j] = max(dp[i - 1][j - 1] + score,\n",
    "                           dp[i - 1][j] + gap,\n",
    "                           dp[i][j - 1] + gap)\n",
    "    aligned_seq1 = []\n",
    "    aligned_seq2 = []\n",
    "    i, j = n, m\n",
    "    \n",
    "    while i > 0 or j > 0:\n",
    "        if i > 0 and j > 0 and dp[i][j] == dp[i - 1][j - 1] + (match if seq1[i - 1] == seq2[j - 1] else mismatch):\n",
    "            # Диагональ (совпадение/несовпадение)\n",
    "            aligned_seq1.append(seq1[i - 1])\n",
    "            aligned_seq2.append(seq2[j - 1])\n",
    "            i -= 1\n",
    "            j -= 1\n",
    "        elif i > 0 and dp[i][j] == dp[i - 1][j] + gap:\n",
    "            # Вертикаль (gap в seq2)\n",
    "            aligned_seq1.append(seq1[i - 1])\n",
    "            aligned_seq2.append('-')\n",
    "            i -= 1\n",
    "        else:\n",
    "            # Горизонталь (gap в seq1)\n",
    "            aligned_seq1.append('-')\n",
    "            aligned_seq2.append(seq2[j - 1])\n",
    "            j -= 1\n",
    "    aligned_seq1 = ''.join(reversed(aligned_seq1))\n",
    "    aligned_seq2 = ''.join(reversed(aligned_seq2))\n",
    "    \n",
    "    return aligned_seq1, aligned_seq2"
   ]
  },
  {
   "cell_type": "code",
   "execution_count": null,
   "id": "6d261451-19bd-4813-84b5-d4a5aa939833",
   "metadata": {},
   "outputs": [
    {
     "data": {
      "text/plain": [
       "('GACGAAG', '-ACCAAG')"
      ]
     },
     "execution_count": 22,
     "metadata": {},
     "output_type": "execute_result"
    }
   ],
   "source": [
    "needleman_wunsch(seq1, seq2)"
   ]
  },
  {
   "cell_type": "code",
   "execution_count": 8,
   "id": "bc8fedc8-ad91-4f49-9a5e-2c566744416f",
   "metadata": {},
   "outputs": [],
   "source": [
    "seq1 = \"CGTCTT\"\n",
    "seq2 = \"CATTCT\"\n",
    "def needleman_wunsch(seq1, seq2, match=1, mismatch=-1, gap=-2):\n",
    "    n = len(seq1)\n",
    "    m = len(seq2)\n",
    "    \n",
    "    dp = [[0] * (m + 1) for _ in range(n + 1)]\n",
    "    \n",
    "    for i in range(n + 1):\n",
    "        dp[i][0] = gap * i\n",
    "    for j in range(m + 1):\n",
    "        dp[0][j] = gap * j\n",
    "    \n",
    "    for i in range(1, n + 1):\n",
    "        for j in range(1, m + 1):\n",
    "            score = match if seq1[i - 1] == seq2[j - 1] else mismatch\n",
    "            dp[i][j] = max(dp[i - 1][j - 1] + score,\n",
    "                           dp[i - 1][j] + gap,\n",
    "                           dp[i][j - 1] + gap)\n",
    "    aligned_seq1 = []\n",
    "    aligned_seq2 = []\n",
    "    i, j = n, m\n",
    "    \n",
    "    while i > 0 or j > 0:\n",
    "        if i > 0 and j > 0 and dp[i][j] == dp[i - 1][j - 1] + (match if seq1[i - 1] == seq2[j - 1] else mismatch):\n",
    "            # Диагональ (совпадение/несовпадение)\n",
    "            aligned_seq1.append(seq1[i - 1])\n",
    "            aligned_seq2.append(seq2[j - 1])\n",
    "            i -= 1\n",
    "            j -= 1\n",
    "        elif i > 0 and dp[i][j] == dp[i - 1][j] + gap:\n",
    "            # Вертикаль (gap в seq2)\n",
    "            aligned_seq1.append(seq1[i - 1])\n",
    "            aligned_seq2.append('-')\n",
    "            i -= 1\n",
    "        else:\n",
    "            # Горизонталь (gap в seq1)\n",
    "            aligned_seq1.append('-')\n",
    "            aligned_seq2.append(seq2[j - 1])\n",
    "            j -= 1\n",
    "    \n",
    "    # Переворачиваем последовательности\n",
    "    aligned_seq1 = ''.join(reversed(aligned_seq1))\n",
    "    aligned_seq2 = ''.join(reversed(aligned_seq2))\n",
    "    \n",
    "    return aligned_seq1, aligned_seq2"
   ]
  },
  {
   "cell_type": "code",
   "execution_count": 9,
   "id": "9c684b88-1653-4c1f-b8f4-056c54259b2a",
   "metadata": {},
   "outputs": [
    {
     "data": {
      "text/plain": [
       "('CGTCTT', 'CATTCT')"
      ]
     },
     "execution_count": 9,
     "metadata": {},
     "output_type": "execute_result"
    }
   ],
   "source": [
    "needleman_wunsch(seq1, seq2)"
   ]
  },
  {
   "cell_type": "code",
   "execution_count": 10,
   "id": "38a8ddf0-00bd-43b3-8895-1939566ffdac",
   "metadata": {
    "tags": []
   },
   "outputs": [],
   "source": [
    "seq1 = \"ATGTCAC\"\n",
    "seq2 = \"ATCTCC\"\n",
    "def needleman_wunsch(seq1, seq2, match=1, mismatch=-2, gap=-2):\n",
    "    n = len(seq1)\n",
    "    m = len(seq2)\n",
    "    \n",
    "    dp = [[0] * (m + 1) for _ in range(n + 1)]\n",
    "    \n",
    "    for i in range(n + 1):\n",
    "        dp[i][0] = gap * i\n",
    "    for j in range(m + 1):\n",
    "        dp[0][j] = gap * j\n",
    "    \n",
    "    for i in range(1, n + 1):\n",
    "        for j in range(1, m + 1):\n",
    "            score = match if seq1[i - 1] == seq2[j - 1] else mismatch\n",
    "            dp[i][j] = max(dp[i - 1][j - 1] + score,\n",
    "                           dp[i - 1][j] + gap,\n",
    "                           dp[i][j - 1] + gap)\n",
    "    aligned_seq1 = []\n",
    "    aligned_seq2 = []\n",
    "    i, j = n, m\n",
    "    \n",
    "    while i > 0 or j > 0:\n",
    "        if i > 0 and j > 0 and dp[i][j] == dp[i - 1][j - 1] + (match if seq1[i - 1] == seq2[j - 1] else mismatch):\n",
    "            # Диагональ (совпадение/несовпадение)\n",
    "            aligned_seq1.append(seq1[i - 1])\n",
    "            aligned_seq2.append(seq2[j - 1])\n",
    "            i -= 1\n",
    "            j -= 1\n",
    "        elif i > 0 and dp[i][j] == dp[i - 1][j] + gap:\n",
    "            # Вертикаль (gap в seq2)\n",
    "            aligned_seq1.append(seq1[i - 1])\n",
    "            aligned_seq2.append('-')\n",
    "            i -= 1\n",
    "        else:\n",
    "            # Горизонталь (gap в seq1)\n",
    "            aligned_seq1.append('-')\n",
    "            aligned_seq2.append(seq2[j - 1])\n",
    "            j -= 1\n",
    "    \n",
    "    # Переворачиваем последовательности\n",
    "    aligned_seq1 = ''.join(reversed(aligned_seq1))\n",
    "    aligned_seq2 = ''.join(reversed(aligned_seq2))\n",
    "    \n",
    "    return aligned_seq1, aligned_seq2"
   ]
  },
  {
   "cell_type": "code",
   "execution_count": 11,
   "id": "a43e1a49-0e48-4f44-950d-06f817e4aee6",
   "metadata": {},
   "outputs": [
    {
     "data": {
      "text/plain": [
       "('ATGTCAC', 'ATCTC-C')"
      ]
     },
     "execution_count": 11,
     "metadata": {},
     "output_type": "execute_result"
    }
   ],
   "source": [
    "needleman_wunsch(seq1, seq2)"
   ]
  },
  {
   "cell_type": "code",
   "execution_count": 15,
   "id": "4d1bc5e8-34e1-4744-bd98-e550f03878dd",
   "metadata": {},
   "outputs": [
    {
     "name": "stdout",
     "output_type": "stream",
     "text": [
      "Оценка выравнивания: 1.0\n",
      "target            0 ATGTCAC 7\n",
      "                  0 ||.||-| 7\n",
      "query             0 ATCTC-C 6\n",
      "\n"
     ]
    }
   ],
   "source": [
    "from Bio import Align\n",
    "\n",
    "aligner = Align.PairwiseAligner()\n",
    "\n",
    "aligner.match_score = 1      \n",
    "aligner.mismatch_score = -2   \n",
    "aligner.gap_score = -2\n",
    "\n",
    "seq1 = \"ATGTCAC\"\n",
    "seq2 = \"ATCTCC\"\n",
    "\n",
    "alignments = aligner.align(seq1, seq2)\n",
    "\n",
    "print(f\"Оценка выравнивания: {alignments.score}\")\n",
    "for alignment in alignments:\n",
    "    print(alignment)"
   ]
  }
 ],
 "metadata": {
  "kernelspec": {
   "display_name": "Python [conda env:.conda-alignment]",
   "language": "python",
   "name": "conda-env-.conda-alignment-py"
  },
  "language_info": {
   "codemirror_mode": {
    "name": "ipython",
    "version": 3
   },
   "file_extension": ".py",
   "mimetype": "text/x-python",
   "name": "python",
   "nbconvert_exporter": "python",
   "pygments_lexer": "ipython3",
   "version": "3.12.5"
  }
 },
 "nbformat": 4,
 "nbformat_minor": 5
}
